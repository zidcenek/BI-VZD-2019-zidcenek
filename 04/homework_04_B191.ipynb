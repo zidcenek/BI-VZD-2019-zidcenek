{
 "cells": [
  {
   "cell_type": "markdown",
   "metadata": {},
   "source": [
    "# Úkol č. 4 - regrese (do 2. ledna)\n",
    "\n",
    "  * Cílem tohoto úkolu je vyzkoušet si řešit regresní problém na reálných (ale celkem vyčištěných) datech.\n",
    "  \n",
    "> **Nejdůležitější na úkolu je to, abyste udělali vše procesně správně: korektní rozdělení datasetu, ladění hyperparametrů, vyhodnocení výsledků atp.**\n",
    "\n",
    "## Dataset\n",
    "\n",
    "  * Zdrojem dat je list *Data* v souboru `Residential-Building-Data-Set.xlsx` na course pages (originál zde: https://archive.ics.uci.edu/ml/datasets/Residential+Building+Data+Set#).\n",
    "  * Popis datasetu najdete na listu *Descriptions* ve stejném souboru.\n",
    "  \n",
    "\n",
    "## Pokyny k vypracování\n",
    "\n",
    "  1. Rozdělte data na trénovací a testovací množinu.\n",
    "  1. Proveďte základní průzkum dat a příp. vyhoďte nezajímavé příznaky.\n",
    "  1. Aplikujte lineární a hřebenovou regresi a výsledky řádně vyhodnoťte:\n",
    "    * K měření chyby použijte `mean_absolute_error`.\n",
    "    * Experimentujte s tvorbou nových příznaků (na základě těch dostupných).\n",
    "    * Experimentujte se standardizací/normalizací dat.\n",
    "    * Vyberte si hyperparametry modelů k ladění a najděte jejich nejlepší hodnoty.\n",
    "  1. Použijte i jiný model než jen lineární a hřebenovou regresi.\n",
    "\n",
    "\n",
    "## Poznámky k odevzdání\n",
    "\n",
    "  * Řiďte se pokyny ze stránky https://courses.fit.cvut.cz/BI-VZD/homeworks/index.html.\n",
    "  * Odevzdejte pouze tento Jupyter Notebook, opravujíví by neměl nic jiného potřebovat.\n",
    "  * Opravující Vám může umožnit úkol dodělat či opravit a získat tak další body. První verze je ale důležitá a bude-li odbytá, budete za to penalizováni."
   ]
  },
  {
   "cell_type": "code",
   "execution_count": 1,
   "metadata": {},
   "outputs": [],
   "source": [
    "import pandas as pd\n",
    "import numpy as np\n",
    "from sklearn.model_selection import train_test_split\n",
    "from sklearn.linear_model import LinearRegression\n",
    "from sklearn.metrics import mean_squared_error\n",
    "from sklearn.metrics import mean_absolute_error\n",
    "from sklearn.linear_model import Ridge\n",
    "from sklearn.preprocessing import StandardScaler\n",
    "from sklearn.preprocessing import minmax_scale\n",
    "from sklearn.model_selection import ParameterGrid\n",
    "from sklearn.model_selection import cross_validate\n",
    "\n",
    "from sklearn.ensemble import RandomForestRegressor\n",
    "from sklearn.tree import DecisionTreeClassifier\n",
    "from sklearn.ensemble import AdaBoostClassifier\n",
    "from sklearn.neighbors import KNeighborsClassifier"
   ]
  },
  {
   "cell_type": "code",
   "execution_count": 2,
   "metadata": {},
   "outputs": [],
   "source": [
    "# načtení dat včetně multiindex header\n",
    "data = pd.read_excel(\"Residential-Building-Data-Set.xlsx\", header=[0,1])\n",
    "# vyhození sloupců START QUARTER a COMPLETION QUARTER, protože jsou málo vypovícající a tato informace se dá zjistit na základě jiných sloupců\n",
    "data = data.drop(('PROJECT DATES (PERSIAN CALENDAR)', 'START QUARTER'), axis=1)\n",
    "data = data.drop(('PROJECT DATES (PERSIAN CALENDAR)', 'COMPLETION QUARTER'), axis=1)\n",
    "# odtranění sloupců s informací 'Gold price per ounce'\n",
    "data = data.drop(('ECONOMIC VARIABLES AND INDICES IN TIME LAG 1', 'V-29'), axis=1)\n",
    "data = data.drop(('ECONOMIC VARIABLES AND INDICES IN TIME LAG 2', 'V-29'), axis=1)\n",
    "data = data.drop(('ECONOMIC VARIABLES AND INDICES IN TIME LAG 3', 'V-29'), axis=1)\n",
    "data = data.drop(('ECONOMIC VARIABLES AND INDICES IN TIME LAG 4', 'V-29'), axis=1)\n",
    "data = data.drop(('ECONOMIC VARIABLES AND INDICES IN TIME LAG 5', 'V-29'), axis=1)"
   ]
  },
  {
   "cell_type": "code",
   "execution_count": 3,
   "metadata": {},
   "outputs": [
    {
     "name": "stdout",
     "output_type": "stream",
     "text": [
      "Počet nulových hodnot: 0\n",
      "Počet None hodnot: 0\n"
     ]
    }
   ],
   "source": [
    "print('Počet nulových hodnot:', (data == 0).sum().sum())\n",
    "print('Počet None hodnot:', data.isna().sum().sum())"
   ]
  },
  {
   "cell_type": "markdown",
   "metadata": {},
   "source": [
    "Dataframe neobsahuje žádné None hodnoty ani žádné nulové hodnoty"
   ]
  },
  {
   "cell_type": "markdown",
   "metadata": {},
   "source": [
    "###### 1. Rozdělte data na trénovací a testovací množinu."
   ]
  },
  {
   "cell_type": "code",
   "execution_count": 4,
   "metadata": {},
   "outputs": [],
   "source": [
    "def split_data(Xdata, ydata, ratio=0.3, rd_seed=5656):\n",
    "    '''\n",
    "        rozdělí pouze na trenovací a testovací, slouží k použití cross validace\n",
    "    '''\n",
    "    Xtrain, Xtest, ytrain, ytest = train_test_split(Xdata, ydata, test_size=ratio, random_state=rd_seed) \n",
    "    return Xtrain, Xtest, ytrain, ytest"
   ]
  },
  {
   "cell_type": "code",
   "execution_count": 5,
   "metadata": {},
   "outputs": [],
   "source": [
    "def lin_regression(Xtrain, ytrain, Xtest, ytest):\n",
    "    '''provede základní lineární regresi'''\n",
    "    clf = LinearRegression()\n",
    "    clf.fit(Xtrain, ytrain)\n",
    "    Yth = clf.predict(Xtest)\n",
    "    ytest = np.array(ytest)\n",
    "    for i in range(len(ytest)):\n",
    "        rmse = np.sqrt(mean_absolute_error(np.array(Yth[i]), np.reshape(np.array(ytest[i]),2)))\n",
    "        if rmse > 1000000:\n",
    "            print(i, \"rádek\", Yth[i], ytest[i])\n",
    "    return mean_absolute_error(Yth, ytest)"
   ]
  },
  {
   "cell_type": "code",
   "execution_count": 6,
   "metadata": {},
   "outputs": [],
   "source": [
    "def ridge_regression(Xtrain, ytrain, Xtest, ytest):\n",
    "    '''provede základná hřebenovou regresi s výchozími parametry'''\n",
    "    clf = Ridge()\n",
    "    clf.fit(Xtrain,ytrain)\n",
    "    Yth = clf.predict(Xtest)\n",
    "    return mean_absolute_error(Yth, np.array(ytest))"
   ]
  },
  {
   "cell_type": "code",
   "execution_count": 7,
   "metadata": {},
   "outputs": [],
   "source": [
    "def get_standardized_datasets(Xtrain, Xtest):\n",
    "    '''provede standardizaci dat'''\n",
    "    scaler = StandardScaler() # standardizace\n",
    "    scaler.fit(Xtrain)\n",
    "    XStrain = scaler.transform(Xtrain)\n",
    "    XStest = scaler.transform(Xtest)\n",
    "    return XStrain, XStest"
   ]
  },
  {
   "cell_type": "markdown",
   "metadata": {},
   "source": [
    "##### Lineární a hřebenové regrese bez standardizace a ladění hyperparametrů"
   ]
  },
  {
   "cell_type": "code",
   "execution_count": 8,
   "metadata": {},
   "outputs": [],
   "source": [
    "Xtrain, Xtest, ytrain, ytest = split_data(data.drop([('OUTPUTS', 'V-9'), ('OUTPUTS', 'V-10')], axis=1), data.OUTPUTS)"
   ]
  },
  {
   "cell_type": "code",
   "execution_count": 9,
   "metadata": {
    "scrolled": true
   },
   "outputs": [
    {
     "name": "stdout",
     "output_type": "stream",
     "text": [
      "RMSE lineární regrese: 59.72272901755605\n",
      "RMSE hřebenové regrese: 59.414088716970184\n"
     ]
    }
   ],
   "source": [
    "print(\"RMSE lineární regrese:\", lin_regression(Xtrain, ytrain, Xtest, ytest))\n",
    "print(\"RMSE hřebenové regrese:\", ridge_regression(Xtrain, ytrain, Xtest, ytest))"
   ]
  },
  {
   "cell_type": "markdown",
   "metadata": {},
   "source": [
    "**Bez jakéhokoli ladění vychází hřebenová regrese o trochu lépe než lineární (řádově o 1%)**"
   ]
  },
  {
   "cell_type": "markdown",
   "metadata": {},
   "source": [
    "##### Lineární a hřebenová regrese se standardizací příznaků"
   ]
  },
  {
   "cell_type": "code",
   "execution_count": 10,
   "metadata": {},
   "outputs": [],
   "source": [
    "Xtrain, Xtest, ytrain, ytest = split_data(data.drop([('OUTPUTS', 'V-9'), ('OUTPUTS', 'V-10')], axis=1), data.OUTPUTS)\n",
    "XStrain, XStest = get_standardized_datasets(Xtrain, Xtest)"
   ]
  },
  {
   "cell_type": "code",
   "execution_count": 11,
   "metadata": {
    "scrolled": false
   },
   "outputs": [
    {
     "name": "stdout",
     "output_type": "stream",
     "text": [
      "17 rádek [-3.14804188e+13  1.99832334e+11] [1400  300]\n",
      "RMSE lineární regrese: 141429692498.51025\n",
      "RMSE hřebenové regrese: 54.028082539364895\n"
     ]
    }
   ],
   "source": [
    "print(\"RMSE lineární regrese:\", lin_regression(XStrain, ytrain, XStest, ytest))\n",
    "print(\"RMSE hřebenové regrese:\", ridge_regression(XStrain, ytrain, XStest, ytest))"
   ]
  },
  {
   "cell_type": "markdown",
   "metadata": {},
   "source": [
    "- **Po standardizaci příznaků se hřebenová regrese docela výrazně zlepšila (z 64 na 54)**\n",
    "- **U lineární regrese se po standardizaci občas objevují velmi vychýlené hodnoty (vypisuji je ve výpisu)**"
   ]
  },
  {
   "cell_type": "markdown",
   "metadata": {},
   "source": [
    "##### Lineární a hřebenová regrese se standardizací příznaků a s přidáním příznaků na základě sloupce s hodnotami ZIP code"
   ]
  },
  {
   "cell_type": "code",
   "execution_count": 12,
   "metadata": {
    "scrolled": true
   },
   "outputs": [
    {
     "name": "stderr",
     "output_type": "stream",
     "text": [
      "D:\\School\\Anaconda\\lib\\site-packages\\pandas\\core\\reshape\\merge.py:617: UserWarning: merging between different levels can give an unintended result (2 levels on the left, 1 on the right)\n",
      "  warnings.warn(msg, UserWarning)\n"
     ]
    }
   ],
   "source": [
    "Xtrain, Xtest, ytrain, ytest = split_data(data.drop([('OUTPUTS', 'V-9'), ('OUTPUTS', 'V-10')], axis=1), data.OUTPUTS)\n",
    "tmp = Xtrain['PROJECT PHYSICAL AND FINANCIAL VARIABLES']['V-1'].astype(str).str.get_dummies()\n",
    "Xtrain.drop(('PROJECT PHYSICAL AND FINANCIAL VARIABLES', 'V-1'), axis=1)\n",
    "Xtrain = Xtrain.join(tmp)\n",
    "tmp = Xtest['PROJECT PHYSICAL AND FINANCIAL VARIABLES']['V-1'].astype(str).str.get_dummies()\n",
    "Xtest.drop(('PROJECT PHYSICAL AND FINANCIAL VARIABLES', 'V-1'), axis=1)\n",
    "Xtest = Xtest.join(tmp)"
   ]
  },
  {
   "cell_type": "code",
   "execution_count": 13,
   "metadata": {},
   "outputs": [],
   "source": [
    "XStrain, XStest = get_standardized_datasets(Xtrain, Xtest)"
   ]
  },
  {
   "cell_type": "code",
   "execution_count": 14,
   "metadata": {},
   "outputs": [
    {
     "name": "stdout",
     "output_type": "stream",
     "text": [
      "17 rádek [-2.91598959e+13 -1.22898415e+11] [1400  300]\n",
      "RMSE lineární regrese (standardizace): 130726760519.72592\n",
      "RMSE lineární regrese (bez standardizace): 64.37171381877694\n",
      "RMSE hřebenové regrese (standardizace): 58.58906684798148\n",
      "RMSE hřebenové regrese (bez standardizace): 63.387669226651525\n"
     ]
    }
   ],
   "source": [
    "print(\"RMSE lineární regrese (standardizace):\", lin_regression(XStrain, ytrain, XStest, ytest))\n",
    "print(\"RMSE lineární regrese (bez standardizace):\", lin_regression(Xtrain, ytrain, Xtest, ytest))\n",
    "print(\"RMSE hřebenové regrese (standardizace):\", ridge_regression(XStrain, ytrain, XStest, ytest))\n",
    "print(\"RMSE hřebenové regrese (bez standardizace):\", ridge_regression(Xtrain, ytrain, Xtest, ytest))"
   ]
  },
  {
   "cell_type": "markdown",
   "metadata": {},
   "source": [
    "**Závěr: toto zvýšení dimenzionality ovlivnilo Lineární i hřebenovou regresi ve všech případech negativně**"
   ]
  },
  {
   "cell_type": "markdown",
   "metadata": {},
   "source": [
    "###### Vyberte si hyperparametry modelů k ladění a najděte jejich nejlepší hodnoty."
   ]
  },
  {
   "cell_type": "code",
   "execution_count": 15,
   "metadata": {},
   "outputs": [],
   "source": [
    "RANDOM_STATE = 5000 # zafixování kvůli replikovatelnosti "
   ]
  },
  {
   "cell_type": "code",
   "execution_count": 16,
   "metadata": {},
   "outputs": [],
   "source": [
    "from sklearn.model_selection import GridSearchCV, cross_val_score, ShuffleSplit\n",
    "def ridge_regression_with_hyperparameters(Xtrain, ytrain, Xtest, ytest):\n",
    "    params = {\n",
    "        'solver' : ['svd', 'cholesky', 'lsqr', 'sparse_cg'],\n",
    "        'alpha' : np.arange(0.5, 10.0, 0.5),\n",
    "    }\n",
    "    param_comb = ParameterGrid(params)\n",
    "    results = []\n",
    "    for params in param_comb:\n",
    "        params['random_state'] = RANDOM_STATE\n",
    "        clf = Ridge(**params)\n",
    "        scores = cross_validate(clf, Xtrain, ytrain, cv=6)\n",
    "        results.append(np.average(scores['test_score']))\n",
    "    best_params = param_comb[np.argmax(results)]\n",
    "#     print(results)\n",
    "    return best_params"
   ]
  },
  {
   "cell_type": "code",
   "execution_count": 17,
   "metadata": {
    "scrolled": false
   },
   "outputs": [
    {
     "name": "stdout",
     "output_type": "stream",
     "text": [
      "parametry: {'solver': 'lsqr', 'alpha': 2.0, 'random_state': 5000}\n",
      "RMSE po ladění hyperparametrů (standardizace): 53.894667496493824\n"
     ]
    }
   ],
   "source": [
    "import warnings\n",
    "Xtrain, Xtest, ytrain, ytest = split_data(data.drop([('OUTPUTS', 'V-9'), ('OUTPUTS', 'V-10')], axis=1), data.OUTPUTS)\n",
    "XStrain, XStest = get_standardized_datasets(Xtrain, Xtest)\n",
    "\n",
    "best_params = {}\n",
    "with warnings.catch_warnings(): # ignorování FutureWarnings\n",
    "    warnings.filterwarnings(\"ignore\")\n",
    "    best_params = ridge_regression_with_hyperparameters(XStrain, ytrain, XStest, ytest)\n",
    "best_params['random_state'] = RANDOM_STATE\n",
    "clf = Ridge(**best_params)\n",
    "clf.fit(XStrain, ytrain)\n",
    "Yth = clf.predict(XStest)\n",
    "print('parametry:', best_params)\n",
    "print('RMSE po ladění hyperparametrů (standardizace):', mean_absolute_error(Yth, np.array(ytest)))"
   ]
  },
  {
   "cell_type": "markdown",
   "metadata": {},
   "source": [
    "**Celkově ladím následující hyperparametry ('solver' a 'alpha'), k ladění využívám cross validace. Model po odladění hyperparametrů je lepší pouze o trochu (cca 1% na testovacích datech)**"
   ]
  },
  {
   "cell_type": "markdown",
   "metadata": {},
   "source": [
    "###### 4. Použijte i jiný model než jen lineární a hřebenovou regresi."
   ]
  },
  {
   "cell_type": "code",
   "execution_count": 18,
   "metadata": {},
   "outputs": [],
   "source": [
    "Xtrain, Xtest, ytrain, ytest = split_data(data.drop([('OUTPUTS', 'V-9'), ('OUTPUTS', 'V-10')], axis=1), data.OUTPUTS)\n",
    "XStrain, XStest = get_standardized_datasets(Xtrain, Xtest)"
   ]
  },
  {
   "cell_type": "code",
   "execution_count": 19,
   "metadata": {},
   "outputs": [],
   "source": [
    "def learn_forest(Xtrain, ytrain, number_of_cv):\n",
    "    ''' naučení náhodného regresního lesu k odhadu lineární regrese '''\n",
    "    param_grid_forest = {\n",
    "        'n_estimators': range(4,40,2),\n",
    "        'max_depth': range(3,8),\n",
    "    }\n",
    "    param_comb = ParameterGrid(param_grid_forest)\n",
    "    val_acc_forest = []\n",
    "    for params in param_comb:\n",
    "        params['random_state'] = RANDOM_STATE\n",
    "        dt = RandomForestRegressor(**params, n_jobs=4)\n",
    "        scores = cross_validate(dt, Xtrain, ytrain, cv=number_of_cv, n_jobs=4) # využití cross validace k ladění hyperparametrů\n",
    "        val_acc_forest.append(np.average(scores['test_score']))\n",
    "    best_params = param_comb[np.argmax(val_acc_forest)]\n",
    "    return best_params"
   ]
  },
  {
   "cell_type": "code",
   "execution_count": 20,
   "metadata": {
    "scrolled": true
   },
   "outputs": [],
   "source": [
    "with warnings.catch_warnings(): # ignorování FutureWarnings\n",
    "    warnings.filterwarnings(\"ignore\")\n",
    "    best_params = learn_forest(XStrain, ytrain, 7)"
   ]
  },
  {
   "cell_type": "code",
   "execution_count": 21,
   "metadata": {},
   "outputs": [
    {
     "name": "stdout",
     "output_type": "stream",
     "text": [
      "parametry: {'n_estimators': 36, 'max_depth': 7}\n",
      "RMSE po ladění hyperparametrů: 74.37554934272056\n"
     ]
    }
   ],
   "source": [
    "dt = RandomForestRegressor(**best_params)\n",
    "dt.fit(XStrain, ytrain)  # využití standardizovaných dat\n",
    "Yth = dt.predict(XStest)\n",
    "print('parametry:', best_params)\n",
    "print('RMSE po ladění hyperparametrů:', mean_absolute_error(Yth, np.array(ytest)))"
   ]
  },
  {
   "cell_type": "markdown",
   "metadata": {},
   "source": [
    "**Závěr: i přes ladění hyperparametrů pomocí cross validace vychází hodnoty z regresního náhodného lesu daleko hůře než při použití základní lineární regrese**"
   ]
  },
  {
   "cell_type": "code",
   "execution_count": null,
   "metadata": {},
   "outputs": [],
   "source": []
  }
 ],
 "metadata": {
  "kernelspec": {
   "display_name": "Python 3",
   "language": "python",
   "name": "python3"
  },
  "language_info": {
   "codemirror_mode": {
    "name": "ipython",
    "version": 3
   },
   "file_extension": ".py",
   "mimetype": "text/x-python",
   "name": "python",
   "nbconvert_exporter": "python",
   "pygments_lexer": "ipython3",
   "version": "3.7.3"
  }
 },
 "nbformat": 4,
 "nbformat_minor": 4
}
